{
 "cells": [
  {
   "cell_type": "code",
   "execution_count": null,
   "metadata": {},
   "outputs": [],
   "source": [
    "def sub(a=2, b=3):\n",
    "    print(a, b)\n",
    "    \n",
    "sub()\n",
    "sub(a=10)\n",
    "sub(5, 6)\n",
    "sub(b=10)"
   ]
  }
 ],
 "metadata": {
  "language_info": {
   "name": "python"
  },
  "orig_nbformat": 4
 },
 "nbformat": 4,
 "nbformat_minor": 2
}
